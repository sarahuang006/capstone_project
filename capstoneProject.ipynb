{
 "cells": [
  {
   "cell_type": "markdown",
   "metadata": {},
   "source": [
    "# Data Exploration and Visulization\n"
   ]
  },
  {
   "cell_type": "code",
   "execution_count": 1,
   "metadata": {},
   "outputs": [
    {
     "name": "stdout",
     "output_type": "stream",
     "text": [
      "number of rows : 2769\n",
      "Index(['Date', 'Open', 'High', 'Low', 'Close', 'Adj Close', 'Volume'], dtype='object')\n"
     ]
    }
   ],
   "source": [
    "import pandas as pd\n",
    "import numpy as np\n",
    "%matplotlib inline\n",
    "import matplotlib.pyplot as plt\n",
    "import os, datetime\n",
    "\n",
    "df = pd.read_csv(\"GOOG.csv\", header = 0)\n",
    "print(\"number of rows :\", df.shape[0])\n",
    "print (df.dtypes.index)"
   ]
  },
  {
   "cell_type": "code",
   "execution_count": 2,
   "metadata": {},
   "outputs": [
    {
     "data": {
      "text/html": [
       "<div>\n",
       "<style>\n",
       "    .dataframe thead tr:only-child th {\n",
       "        text-align: right;\n",
       "    }\n",
       "\n",
       "    .dataframe thead th {\n",
       "        text-align: left;\n",
       "    }\n",
       "\n",
       "    .dataframe tbody tr th {\n",
       "        vertical-align: top;\n",
       "    }\n",
       "</style>\n",
       "<table border=\"1\" class=\"dataframe\">\n",
       "  <thead>\n",
       "    <tr style=\"text-align: right;\">\n",
       "      <th></th>\n",
       "      <th>Date</th>\n",
       "      <th>Open</th>\n",
       "      <th>High</th>\n",
       "      <th>Low</th>\n",
       "      <th>Close</th>\n",
       "      <th>Adj Close</th>\n",
       "      <th>Volume</th>\n",
       "    </tr>\n",
       "  </thead>\n",
       "  <tbody>\n",
       "    <tr>\n",
       "      <th>1</th>\n",
       "      <td>2006-01-04</td>\n",
       "      <td>220.515762</td>\n",
       "      <td>223.029404</td>\n",
       "      <td>218.454163</td>\n",
       "      <td>221.181427</td>\n",
       "      <td>221.181427</td>\n",
       "      <td>30771600</td>\n",
       "    </tr>\n",
       "    <tr>\n",
       "      <th>2</th>\n",
       "      <td>2006-01-05</td>\n",
       "      <td>221.558975</td>\n",
       "      <td>224.316040</td>\n",
       "      <td>219.323517</td>\n",
       "      <td>224.162048</td>\n",
       "      <td>224.162048</td>\n",
       "      <td>21757200</td>\n",
       "    </tr>\n",
       "    <tr>\n",
       "      <th>3</th>\n",
       "      <td>2006-01-06</td>\n",
       "      <td>226.958847</td>\n",
       "      <td>233.729813</td>\n",
       "      <td>225.155579</td>\n",
       "      <td>231.325455</td>\n",
       "      <td>231.325455</td>\n",
       "      <td>35744800</td>\n",
       "    </tr>\n",
       "    <tr>\n",
       "      <th>4</th>\n",
       "      <td>2006-01-09</td>\n",
       "      <td>231.698029</td>\n",
       "      <td>235.170441</td>\n",
       "      <td>228.980698</td>\n",
       "      <td>231.941452</td>\n",
       "      <td>231.941452</td>\n",
       "      <td>25750100</td>\n",
       "    </tr>\n",
       "    <tr>\n",
       "      <th>5</th>\n",
       "      <td>2006-01-10</td>\n",
       "      <td>230.709457</td>\n",
       "      <td>233.605621</td>\n",
       "      <td>229.527145</td>\n",
       "      <td>233.362198</td>\n",
       "      <td>233.362198</td>\n",
       "      <td>18312400</td>\n",
       "    </tr>\n",
       "    <tr>\n",
       "      <th>6</th>\n",
       "      <td>2006-01-11</td>\n",
       "      <td>234.112320</td>\n",
       "      <td>236.019913</td>\n",
       "      <td>233.074081</td>\n",
       "      <td>234.291168</td>\n",
       "      <td>234.291168</td>\n",
       "      <td>18131900</td>\n",
       "    </tr>\n",
       "    <tr>\n",
       "      <th>7</th>\n",
       "      <td>2006-01-12</td>\n",
       "      <td>235.329407</td>\n",
       "      <td>235.960312</td>\n",
       "      <td>229.258896</td>\n",
       "      <td>230.317017</td>\n",
       "      <td>230.317017</td>\n",
       "      <td>20382200</td>\n",
       "    </tr>\n",
       "    <tr>\n",
       "      <th>8</th>\n",
       "      <td>2006-01-13</td>\n",
       "      <td>230.654816</td>\n",
       "      <td>231.936478</td>\n",
       "      <td>229.313538</td>\n",
       "      <td>231.618546</td>\n",
       "      <td>231.618546</td>\n",
       "      <td>15412700</td>\n",
       "    </tr>\n",
       "    <tr>\n",
       "      <th>9</th>\n",
       "      <td>2006-01-17</td>\n",
       "      <td>230.033844</td>\n",
       "      <td>233.431747</td>\n",
       "      <td>229.770569</td>\n",
       "      <td>232.045761</td>\n",
       "      <td>232.045761</td>\n",
       "      <td>16648100</td>\n",
       "    </tr>\n",
       "  </tbody>\n",
       "</table>\n",
       "</div>"
      ],
      "text/plain": [
       "         Date        Open        High         Low       Close   Adj Close  \\\n",
       "1  2006-01-04  220.515762  223.029404  218.454163  221.181427  221.181427   \n",
       "2  2006-01-05  221.558975  224.316040  219.323517  224.162048  224.162048   \n",
       "3  2006-01-06  226.958847  233.729813  225.155579  231.325455  231.325455   \n",
       "4  2006-01-09  231.698029  235.170441  228.980698  231.941452  231.941452   \n",
       "5  2006-01-10  230.709457  233.605621  229.527145  233.362198  233.362198   \n",
       "6  2006-01-11  234.112320  236.019913  233.074081  234.291168  234.291168   \n",
       "7  2006-01-12  235.329407  235.960312  229.258896  230.317017  230.317017   \n",
       "8  2006-01-13  230.654816  231.936478  229.313538  231.618546  231.618546   \n",
       "9  2006-01-17  230.033844  233.431747  229.770569  232.045761  232.045761   \n",
       "\n",
       "     Volume  \n",
       "1  30771600  \n",
       "2  21757200  \n",
       "3  35744800  \n",
       "4  25750100  \n",
       "5  18312400  \n",
       "6  18131900  \n",
       "7  20382200  \n",
       "8  15412700  \n",
       "9  16648100  "
      ]
     },
     "execution_count": 2,
     "metadata": {},
     "output_type": "execute_result"
    }
   ],
   "source": [
    "# sample the data set\n",
    "df.iloc[1:10]"
   ]
  },
  {
   "cell_type": "code",
   "execution_count": 3,
   "metadata": {},
   "outputs": [
    {
     "data": {
      "text/plain": [
       "Date         0\n",
       "Open         0\n",
       "High         0\n",
       "Low          0\n",
       "Close        0\n",
       "Adj Close    0\n",
       "Volume       0\n",
       "dtype: int64"
      ]
     },
     "execution_count": 3,
     "metadata": {},
     "output_type": "execute_result"
    }
   ],
   "source": [
    "df.isnull().sum()"
   ]
  },
  {
   "cell_type": "code",
   "execution_count": 4,
   "metadata": {},
   "outputs": [
    {
     "data": {
      "text/plain": [
       "Date         0\n",
       "Open         0\n",
       "High         0\n",
       "Low          0\n",
       "Close        0\n",
       "Adj Close    0\n",
       "Volume       0\n",
       "dtype: int64"
      ]
     },
     "execution_count": 4,
     "metadata": {},
     "output_type": "execute_result"
    }
   ],
   "source": [
    "df.eq(0).sum()"
   ]
  },
  {
   "cell_type": "code",
   "execution_count": 5,
   "metadata": {},
   "outputs": [
    {
     "data": {
      "text/html": [
       "<div>\n",
       "<style>\n",
       "    .dataframe thead tr:only-child th {\n",
       "        text-align: right;\n",
       "    }\n",
       "\n",
       "    .dataframe thead th {\n",
       "        text-align: left;\n",
       "    }\n",
       "\n",
       "    .dataframe tbody tr th {\n",
       "        vertical-align: top;\n",
       "    }\n",
       "</style>\n",
       "<table border=\"1\" class=\"dataframe\">\n",
       "  <thead>\n",
       "    <tr style=\"text-align: right;\">\n",
       "      <th></th>\n",
       "      <th>Open</th>\n",
       "      <th>High</th>\n",
       "      <th>Low</th>\n",
       "      <th>Close</th>\n",
       "      <th>Adj Close</th>\n",
       "      <th>Volume</th>\n",
       "    </tr>\n",
       "  </thead>\n",
       "  <tbody>\n",
       "    <tr>\n",
       "      <th>count</th>\n",
       "      <td>2769.000000</td>\n",
       "      <td>2769.000000</td>\n",
       "      <td>2769.000000</td>\n",
       "      <td>2769.000000</td>\n",
       "      <td>2769.000000</td>\n",
       "      <td>2.769000e+03</td>\n",
       "    </tr>\n",
       "    <tr>\n",
       "      <th>mean</th>\n",
       "      <td>375.902446</td>\n",
       "      <td>379.276280</td>\n",
       "      <td>372.115031</td>\n",
       "      <td>375.714687</td>\n",
       "      <td>375.714687</td>\n",
       "      <td>6.931651e+06</td>\n",
       "    </tr>\n",
       "    <tr>\n",
       "      <th>std</th>\n",
       "      <td>179.439162</td>\n",
       "      <td>180.423646</td>\n",
       "      <td>178.249847</td>\n",
       "      <td>179.377893</td>\n",
       "      <td>179.377893</td>\n",
       "      <td>6.539445e+06</td>\n",
       "    </tr>\n",
       "    <tr>\n",
       "      <th>min</th>\n",
       "      <td>130.406830</td>\n",
       "      <td>133.814667</td>\n",
       "      <td>122.850975</td>\n",
       "      <td>127.888214</td>\n",
       "      <td>127.888214</td>\n",
       "      <td>7.900000e+03</td>\n",
       "    </tr>\n",
       "    <tr>\n",
       "      <th>25%</th>\n",
       "      <td>240.778961</td>\n",
       "      <td>243.709900</td>\n",
       "      <td>238.588211</td>\n",
       "      <td>240.858444</td>\n",
       "      <td>240.858444</td>\n",
       "      <td>2.821100e+06</td>\n",
       "    </tr>\n",
       "    <tr>\n",
       "      <th>50%</th>\n",
       "      <td>298.727081</td>\n",
       "      <td>301.851746</td>\n",
       "      <td>296.461792</td>\n",
       "      <td>298.558167</td>\n",
       "      <td>298.558167</td>\n",
       "      <td>5.028200e+06</td>\n",
       "    </tr>\n",
       "    <tr>\n",
       "      <th>75%</th>\n",
       "      <td>528.318787</td>\n",
       "      <td>532.658752</td>\n",
       "      <td>524.247375</td>\n",
       "      <td>528.444336</td>\n",
       "      <td>528.444336</td>\n",
       "      <td>8.763800e+06</td>\n",
       "    </tr>\n",
       "    <tr>\n",
       "      <th>max</th>\n",
       "      <td>816.679993</td>\n",
       "      <td>816.679993</td>\n",
       "      <td>805.140015</td>\n",
       "      <td>813.109985</td>\n",
       "      <td>813.109985</td>\n",
       "      <td>8.276810e+07</td>\n",
       "    </tr>\n",
       "  </tbody>\n",
       "</table>\n",
       "</div>"
      ],
      "text/plain": [
       "              Open         High          Low        Close    Adj Close  \\\n",
       "count  2769.000000  2769.000000  2769.000000  2769.000000  2769.000000   \n",
       "mean    375.902446   379.276280   372.115031   375.714687   375.714687   \n",
       "std     179.439162   180.423646   178.249847   179.377893   179.377893   \n",
       "min     130.406830   133.814667   122.850975   127.888214   127.888214   \n",
       "25%     240.778961   243.709900   238.588211   240.858444   240.858444   \n",
       "50%     298.727081   301.851746   296.461792   298.558167   298.558167   \n",
       "75%     528.318787   532.658752   524.247375   528.444336   528.444336   \n",
       "max     816.679993   816.679993   805.140015   813.109985   813.109985   \n",
       "\n",
       "             Volume  \n",
       "count  2.769000e+03  \n",
       "mean   6.931651e+06  \n",
       "std    6.539445e+06  \n",
       "min    7.900000e+03  \n",
       "25%    2.821100e+06  \n",
       "50%    5.028200e+06  \n",
       "75%    8.763800e+06  \n",
       "max    8.276810e+07  "
      ]
     },
     "execution_count": 5,
     "metadata": {},
     "output_type": "execute_result"
    }
   ],
   "source": [
    "# sample statistics\n",
    "df.describe()"
   ]
  },
  {
   "cell_type": "code",
   "execution_count": 6,
   "metadata": {},
   "outputs": [
    {
     "data": {
      "text/plain": [
       "<matplotlib.text.Text at 0x118a08160>"
      ]
     },
     "execution_count": 6,
     "metadata": {},
     "output_type": "execute_result"
    },
    {
     "data": {
      "image/png": "[encoded data removed]",
      "text/plain": [
       "<matplotlib.figure.Figure at 0x118dbfb00>"
      ]
     },
     "metadata": {},
     "output_type": "display_data"
    }
   ],
   "source": [
    "# Overview of google close price vs date\n",
    "ax = df.plot(x = 'Date', y = 'Adj Close', title =\" Google adj-close price from 2006-2016\")\n",
    "ax.set_ylabel(\"Price\")\n"
   ]
  },
  {
   "cell_type": "code",
   "execution_count": 7,
   "metadata": {},
   "outputs": [
    {
     "name": "stdout",
     "output_type": "stream",
     "text": [
      "Index(['Date', 'Open', 'High', 'Low', 'Close', 'Adj Close', 'Volume',\n",
      "       'rolling_mean', 'upper_band', 'lower_band', 'SMA', 'price/SMA'],\n",
      "      dtype='object')\n"
     ]
    }
   ],
   "source": [
    "# Calculate technical indicator bbands and sma and append them to the original dataset \n",
    "from datetime import datetime\n",
    "#df['Date'] = pd.to_datetime(df['Date'])\n",
    "#df = pd.DataFrame(index=Date)\n",
    "prices_normed = df['Adj Close']/ df['Adj Close'].iloc[0]\n",
    "df['Adj Close'] = prices_normed\n",
    "df.dropna(inplace=True)\n",
    "df['rolling_mean'] = pd.Series.rolling(prices_normed, window=7, min_periods=1).mean()\n",
    "rolling_std = pd.Series.rolling(prices_normed, window=7, min_periods = 1).std()\n",
    "df['upper_band'] = df['rolling_mean'] + (2 * rolling_std)\n",
    "df['lower_band'] = df['rolling_mean'] - (2 * rolling_std)\n",
    "\n",
    "df['SMA'] = pd.Series.rolling(prices_normed, window=7, min_periods=1).mean()\n",
    "df['price/SMA'] = prices_normed/df['SMA']\n",
    "print (df.dtypes.index)"
   ]
  },
  {
   "cell_type": "code",
   "execution_count": 8,
   "metadata": {},
   "outputs": [
    {
     "data": {
      "text/plain": [
       "<matplotlib.text.Text at 0x118a08160>"
      ]
     },
     "execution_count": 8,
     "metadata": {},
     "output_type": "execute_result"
    },
    {
     "data": {
      "image/png": "[encoded data removed]",
      "text/plain": [
       "<matplotlib.figure.Figure at 0x10fcda630>"
      ]
     },
     "metadata": {},
     "output_type": "display_data"
    },
    {
     "data": {
      "image/png": "[encoded data removed]",
      "text/plain": [
       "<matplotlib.figure.Figure at 0x10fcda358>"
      ]
     },
     "metadata": {},
     "output_type": "display_data"
    }
   ],
   "source": [
    "# plot of BBands and sma\n",
    "df_BBbands = pd.DataFrame(df.iloc[0:600], columns = ['Date', 'Adj Close','rolling_mean', 'upper_band', 'lower_band'])\n",
    "ax1 = df_BBbands.plot(x = 'Date', title = \"Bollinger bands indicator\")\n",
    "ax1.set_ylabel(\"Normalized_Prices\")\n",
    "\n",
    "df_SMA = pd.DataFrame(df.iloc[0:600], columns = ['Date', 'Adj Close','SMA', 'price/SMA'])\n",
    "ax2 = df_SMA.plot(x = 'Date', title = \"price/SMA indicator\" )\n",
    "ax.set_ylabel(\"Normalized_Prices\")\n"
   ]
  },
  {
   "cell_type": "code",
   "execution_count": 9,
   "metadata": {},
   "outputs": [
    {
     "data": {
      "text/html": [
       "<div>\n",
       "<style>\n",
       "    .dataframe thead tr:only-child th {\n",
       "        text-align: right;\n",
       "    }\n",
       "\n",
       "    .dataframe thead th {\n",
       "        text-align: left;\n",
       "    }\n",
       "\n",
       "    .dataframe tbody tr th {\n",
       "        vertical-align: top;\n",
       "    }\n",
       "</style>\n",
       "<table border=\"1\" class=\"dataframe\">\n",
       "  <thead>\n",
       "    <tr style=\"text-align: right;\">\n",
       "      <th></th>\n",
       "      <th>Date</th>\n",
       "      <th>Open</th>\n",
       "      <th>High</th>\n",
       "      <th>Low</th>\n",
       "      <th>Close</th>\n",
       "      <th>Adj Close</th>\n",
       "      <th>Volume</th>\n",
       "      <th>rolling_mean</th>\n",
       "      <th>upper_band</th>\n",
       "      <th>lower_band</th>\n",
       "      <th>SMA</th>\n",
       "      <th>price/SMA</th>\n",
       "    </tr>\n",
       "  </thead>\n",
       "  <tbody>\n",
       "    <tr>\n",
       "      <th>0</th>\n",
       "      <td>2006-01-03</td>\n",
       "      <td>209.894836</td>\n",
       "      <td>216.427353</td>\n",
       "      <td>207.758728</td>\n",
       "      <td>216.208771</td>\n",
       "      <td>1.000000</td>\n",
       "      <td>26413000</td>\n",
       "      <td>1.000000</td>\n",
       "      <td>NaN</td>\n",
       "      <td>NaN</td>\n",
       "      <td>1.000000</td>\n",
       "      <td>1.000000</td>\n",
       "    </tr>\n",
       "    <tr>\n",
       "      <th>1</th>\n",
       "      <td>2006-01-04</td>\n",
       "      <td>220.515762</td>\n",
       "      <td>223.029404</td>\n",
       "      <td>218.454163</td>\n",
       "      <td>221.181427</td>\n",
       "      <td>1.022999</td>\n",
       "      <td>30771600</td>\n",
       "      <td>1.011500</td>\n",
       "      <td>1.044026</td>\n",
       "      <td>0.978974</td>\n",
       "      <td>1.011500</td>\n",
       "      <td>1.011369</td>\n",
       "    </tr>\n",
       "    <tr>\n",
       "      <th>2</th>\n",
       "      <td>2006-01-05</td>\n",
       "      <td>221.558975</td>\n",
       "      <td>224.316040</td>\n",
       "      <td>219.323517</td>\n",
       "      <td>224.162048</td>\n",
       "      <td>1.036785</td>\n",
       "      <td>21757200</td>\n",
       "      <td>1.019928</td>\n",
       "      <td>1.057096</td>\n",
       "      <td>0.982760</td>\n",
       "      <td>1.019928</td>\n",
       "      <td>1.016528</td>\n",
       "    </tr>\n",
       "    <tr>\n",
       "      <th>3</th>\n",
       "      <td>2006-01-06</td>\n",
       "      <td>226.958847</td>\n",
       "      <td>233.729813</td>\n",
       "      <td>225.155579</td>\n",
       "      <td>231.325455</td>\n",
       "      <td>1.069917</td>\n",
       "      <td>35744800</td>\n",
       "      <td>1.032425</td>\n",
       "      <td>1.090905</td>\n",
       "      <td>0.973946</td>\n",
       "      <td>1.032425</td>\n",
       "      <td>1.036314</td>\n",
       "    </tr>\n",
       "    <tr>\n",
       "      <th>4</th>\n",
       "      <td>2006-01-09</td>\n",
       "      <td>231.698029</td>\n",
       "      <td>235.170441</td>\n",
       "      <td>228.980698</td>\n",
       "      <td>231.941452</td>\n",
       "      <td>1.072766</td>\n",
       "      <td>25750100</td>\n",
       "      <td>1.040494</td>\n",
       "      <td>1.102677</td>\n",
       "      <td>0.978310</td>\n",
       "      <td>1.040494</td>\n",
       "      <td>1.031017</td>\n",
       "    </tr>\n",
       "    <tr>\n",
       "      <th>5</th>\n",
       "      <td>2006-01-10</td>\n",
       "      <td>230.709457</td>\n",
       "      <td>233.605621</td>\n",
       "      <td>229.527145</td>\n",
       "      <td>233.362198</td>\n",
       "      <td>1.079337</td>\n",
       "      <td>18312400</td>\n",
       "      <td>1.046968</td>\n",
       "      <td>1.110993</td>\n",
       "      <td>0.982942</td>\n",
       "      <td>1.046968</td>\n",
       "      <td>1.030918</td>\n",
       "    </tr>\n",
       "    <tr>\n",
       "      <th>6</th>\n",
       "      <td>2006-01-11</td>\n",
       "      <td>234.112320</td>\n",
       "      <td>236.019913</td>\n",
       "      <td>233.074081</td>\n",
       "      <td>234.291168</td>\n",
       "      <td>1.083634</td>\n",
       "      <td>18131900</td>\n",
       "      <td>1.052206</td>\n",
       "      <td>1.116892</td>\n",
       "      <td>0.987519</td>\n",
       "      <td>1.052206</td>\n",
       "      <td>1.029869</td>\n",
       "    </tr>\n",
       "    <tr>\n",
       "      <th>7</th>\n",
       "      <td>2006-01-12</td>\n",
       "      <td>235.329407</td>\n",
       "      <td>235.960312</td>\n",
       "      <td>229.258896</td>\n",
       "      <td>230.317017</td>\n",
       "      <td>1.065253</td>\n",
       "      <td>20382200</td>\n",
       "      <td>1.061527</td>\n",
       "      <td>1.107084</td>\n",
       "      <td>1.015971</td>\n",
       "      <td>1.061527</td>\n",
       "      <td>1.003510</td>\n",
       "    </tr>\n",
       "    <tr>\n",
       "      <th>8</th>\n",
       "      <td>2006-01-13</td>\n",
       "      <td>230.654816</td>\n",
       "      <td>231.936478</td>\n",
       "      <td>229.313538</td>\n",
       "      <td>231.618546</td>\n",
       "      <td>1.071273</td>\n",
       "      <td>15412700</td>\n",
       "      <td>1.068424</td>\n",
       "      <td>1.098873</td>\n",
       "      <td>1.037975</td>\n",
       "      <td>1.068424</td>\n",
       "      <td>1.002667</td>\n",
       "    </tr>\n",
       "    <tr>\n",
       "      <th>9</th>\n",
       "      <td>2006-01-17</td>\n",
       "      <td>230.033844</td>\n",
       "      <td>233.431747</td>\n",
       "      <td>229.770569</td>\n",
       "      <td>232.045761</td>\n",
       "      <td>1.073249</td>\n",
       "      <td>16648100</td>\n",
       "      <td>1.073633</td>\n",
       "      <td>1.085827</td>\n",
       "      <td>1.061438</td>\n",
       "      <td>1.073633</td>\n",
       "      <td>0.999642</td>\n",
       "    </tr>\n",
       "  </tbody>\n",
       "</table>\n",
       "</div>"
      ],
      "text/plain": [
       "         Date        Open        High         Low       Close  Adj Close  \\\n",
       "0  2006-01-03  209.894836  216.427353  207.758728  216.208771   1.000000   \n",
       "1  2006-01-04  220.515762  223.029404  218.454163  221.181427   1.022999   \n",
       "2  2006-01-05  221.558975  224.316040  219.323517  224.162048   1.036785   \n",
       "3  2006-01-06  226.958847  233.729813  225.155579  231.325455   1.069917   \n",
       "4  2006-01-09  231.698029  235.170441  228.980698  231.941452   1.072766   \n",
       "5  2006-01-10  230.709457  233.605621  229.527145  233.362198   1.079337   \n",
       "6  2006-01-11  234.112320  236.019913  233.074081  234.291168   1.083634   \n",
       "7  2006-01-12  235.329407  235.960312  229.258896  230.317017   1.065253   \n",
       "8  2006-01-13  230.654816  231.936478  229.313538  231.618546   1.071273   \n",
       "9  2006-01-17  230.033844  233.431747  229.770569  232.045761   1.073249   \n",
       "\n",
       "     Volume  rolling_mean  upper_band  lower_band       SMA  price/SMA  \n",
       "0  26413000      1.000000         NaN         NaN  1.000000   1.000000  \n",
       "1  30771600      1.011500    1.044026    0.978974  1.011500   1.011369  \n",
       "2  21757200      1.019928    1.057096    0.982760  1.019928   1.016528  \n",
       "3  35744800      1.032425    1.090905    0.973946  1.032425   1.036314  \n",
       "4  25750100      1.040494    1.102677    0.978310  1.040494   1.031017  \n",
       "5  18312400      1.046968    1.110993    0.982942  1.046968   1.030918  \n",
       "6  18131900      1.052206    1.116892    0.987519  1.052206   1.029869  \n",
       "7  20382200      1.061527    1.107084    1.015971  1.061527   1.003510  \n",
       "8  15412700      1.068424    1.098873    1.037975  1.068424   1.002667  \n",
       "9  16648100      1.073633    1.085827    1.061438  1.073633   0.999642  "
      ]
     },
     "execution_count": 9,
     "metadata": {},
     "output_type": "execute_result"
    }
   ],
   "source": [
    "df.iloc[0:10]"
   ]
  },
  {
   "cell_type": "markdown",
   "metadata": {},
   "source": [
    "# Supervised learning models"
   ]
  },
  {
   "cell_type": "code",
   "execution_count": 52,
   "metadata": {
    "collapsed": true
   },
   "outputs": [],
   "source": [
    "# metrics\n",
    "#from sklearn.metrics import mean_absolute_error\n",
    "#from sklearn.metrics import explained_variance_score\n",
    "from sklearn.metrics import r2_score\n",
    "#from sklearn.metrics import median_absolute_error\n",
    "from sklearn.metrics import mean_squared_error\n",
    "from math import sqrt\n",
    "\n",
    "def print_metrics(y_true, y_predict):\n",
    "    rmse = sqrt(mean_squared_error(y_true, y_predict))\n",
    "    print(\"Root Mean Squared Error: \", rmse)\n",
    "    print(\"R2 score: \", r2_score(y_true, y_predict))\n",
    "    return rmse"
   ]
  },
  {
   "cell_type": "code",
   "execution_count": 11,
   "metadata": {},
   "outputs": [],
   "source": [
    "# prepare different size of training dataset and test dataset\n",
    "#predict y value is price of 7 days later\n",
    "from datetime import datetime\n",
    "df = df.dropna()\n",
    "#df['Date'] = pd.to_datetime(df['Date'])\n",
    "df['Adj_Close_7_Days_Later'] = df['Adj Close']\n",
    "df['Adj_Close_7_Days_Later'] = df['Adj_Close_7_Days_Later'].shift(-7)\n",
    "\n",
    "\n",
    "X_train_1000 = df.iloc[0:1000,1:-1]\n",
    "y_train_1000 = df.iloc[0:1000, -1]\n",
    "X_test_1000 = df.iloc[1000:1253,1:-1]\n",
    "y_test_1000 = df.iloc[1000:1253, -1]\n",
    "\n",
    "\n",
    "#X_train_2000 = df.iloc[0:2000,1:-1]\n",
    "#y_train_2000 = df.iloc[0:2000, -1]\n",
    "#X_test_2000 = df.iloc[2000:2253,1:-1]\n",
    "#y_test_2000 = df.iloc[2000:2253, -1]"
   ]
  },
  {
   "cell_type": "code",
   "execution_count": 53,
   "metadata": {},
   "outputs": [
    {
     "name": "stdout",
     "output_type": "stream",
     "text": [
      "\n",
      "LinearRegression: \n",
      "\n",
      "Root Mean Squared Error:  0.0583506683985424\n",
      "R2 score:  0.745021670918\n",
      "--------------------------------\n",
      "\n",
      "KNeighborsRegressor: \n",
      "\n",
      "Root Mean Squared Error:  0.18897031188369667\n",
      "R2 score:  -1.6742300222\n",
      "--------------------------------\n",
      "\n",
      "DecisionTreeRegressor: \n",
      "\n",
      "Root Mean Squared Error:  0.09198122414156444\n",
      "R2 score:  0.36640758329\n",
      "--------------------------------\n",
      "\n",
      "RandomForestRegressor: \n",
      "\n",
      "Root Mean Squared Error:  0.07093021888637432\n",
      "R2 score:  0.62323183454\n",
      "--------------------------------\n"
     ]
    }
   ],
   "source": [
    "from sklearn import linear_model\n",
    "from sklearn.neighbors import KNeighborsRegressor\n",
    "from sklearn.tree import DecisionTreeRegressor\n",
    "from sklearn.ensemble import RandomForestRegressor\n",
    "\n",
    "\n",
    "X_train = X_train_1000\n",
    "y_train = y_train_1000\n",
    "\n",
    "X_test = X_test_1000\n",
    "y_test = y_test_1000\n",
    "\n",
    "linear = linear_model.LinearRegression()\n",
    "knn = KNeighborsRegressor()\n",
    "tree = DecisionTreeRegressor(random_state=10)\n",
    "forest = RandomForestRegressor() \n",
    "\n",
    "\n",
    "for model in [linear, knn, tree, forest]:\n",
    "    print (\"\\n{}: \\n\".format(model.__class__.__name__))\n",
    "    model.fit(X_train, y_train)\n",
    "    y_predict = model.predict(X_test)\n",
    "    print_metrics(y_test, y_predict)\n",
    "    print ('-'*32)\n",
    "    \n",
    "\n",
    "\n"
   ]
  },
  {
   "cell_type": "code",
   "execution_count": 13,
   "metadata": {},
   "outputs": [
    {
     "data": {
      "text/plain": [
       "<matplotlib.text.Text at 0x11dbad080>"
      ]
     },
     "execution_count": 13,
     "metadata": {},
     "output_type": "execute_result"
    },
    {
     "data": {
      "image/png": "[encoded data removed]",
      "text/plain": [
       "<matplotlib.figure.Figure at 0x11d30beb8>"
      ]
     },
     "metadata": {},
     "output_type": "display_data"
    }
   ],
   "source": [
    "# Select columns and plot for linear regression comparation of prediction and real price using training size 1000\n",
    "df_plot = pd.DataFrame()\n",
    "df_plot['Date'] = df[1000:1253]['Date']\n",
    "df_plot['y_true'] = df[1000:1253]['Adj Close']\n",
    "df_plot['y_predict'] = linear.predict(X_test)\n",
    "\n",
    "ax = df_plot.plot(x = 'Date', title = 'Google : Prediction vs true price in 2010')\n",
    "ax.set_ylabel(\"Normalized_Prices\")\n"
   ]
  },
  {
   "cell_type": "code",
   "execution_count": 54,
   "metadata": {},
   "outputs": [
    {
     "name": "stdout",
     "output_type": "stream",
     "text": [
      "Root Mean Squared Error:  0.0583506683985424\n",
      "R2 score:  0.745021670918\n"
     ]
    },
    {
     "data": {
      "text/plain": [
       "0.0583506683985424"
      ]
     },
     "execution_count": 54,
     "metadata": {},
     "output_type": "execute_result"
    }
   ],
   "source": [
    "# Refinement for Linear Regression : choose features to see if better results can happen\n",
    "# choose features ('Date', 'Open', 'High', 'Low', 'Close', 'Adj Close', 'Volume',\n",
    "#      'rolling_mean', 'upper_band', 'lower_band', 'SMA', 'price/SMA')\n",
    "\n",
    "\n",
    "X_train = df.iloc[0:1000,[1, 2, 3, 5, 6, 7, 8, 9, 10]]\n",
    "y_train = df.iloc[0:1000, -1]\n",
    "X_test = df.iloc[1000:1253,[1, 2, 3, 5, 6,7,8, 9, 10]]\n",
    "y_test = df.iloc[1000:1253, -1]\n",
    "\n",
    "\n",
    "linear = linear_model.LinearRegression()\n",
    "linear.fit(X_train, y_train)\n",
    "y_predict = linear.predict(X_test)\n",
    "print_metrics(y_test, y_predict)\n",
    "    \n"
   ]
  },
  {
   "cell_type": "code",
   "execution_count": 55,
   "metadata": {},
   "outputs": [
    {
     "name": "stdout",
     "output_type": "stream",
     "text": [
      "Best Estimator : KNeighborsRegressor(algorithm='auto', leaf_size=1, metric='minkowski',\n",
      "          metric_params=None, n_jobs=1, n_neighbors=25, p=2,\n",
      "          weights='uniform')\n",
      "Root Mean Squared Error:  0.07093021888637432\n",
      "R2 score:  0.62323183454\n"
     ]
    },
    {
     "data": {
      "text/plain": [
       "0.07093021888637432"
      ]
     },
     "execution_count": 55,
     "metadata": {},
     "output_type": "execute_result"
    }
   ],
   "source": [
    "# Refinment for KNN\n",
    "from sklearn.grid_search import GridSearchCV\n",
    "\n",
    "# Select training data size and corresponding test data set.\n",
    "X_train = X_train_1000\n",
    "y_train = y_train_1000\n",
    "\n",
    "X_test = X_test_1000\n",
    "y_test = y_test_1000\n",
    "k = [1,5,10,15,20,25, 30]\n",
    "leaves = [1,5,10,15,20,25, 30]\n",
    "weights = ['uniform', 'distance']\n",
    "parameters = {'n_neighbors': k, 'leaf_size': leaves, 'weights': weights}\n",
    "    \n",
    "# GridSearchCV\n",
    "knn_optimized = GridSearchCV(knn, parameters, cv=10)\n",
    "knn_optimized.fit(X_train, y_train)\n",
    "knn_optimized.predict(X_test)\n",
    "print(\"Best Estimator :\", knn_optimized.best_estimator_)\n",
    "\n",
    "print_metrics(y_test, model.predict(X_test))\n",
    "\n",
    "\n"
   ]
  },
  {
   "cell_type": "code",
   "execution_count": 58,
   "metadata": {},
   "outputs": [
    {
     "name": "stdout",
     "output_type": "stream",
     "text": [
      "Estimator : DecisionTreeRegressor(criterion='mse', max_depth=4, max_features=None,\n",
      "           max_leaf_nodes=None, min_impurity_split=1e-07,\n",
      "           min_samples_leaf=1, min_samples_split=2,\n",
      "           min_weight_fraction_leaf=0.0, presort=False, random_state=4,\n",
      "           splitter='best')\n",
      "Root Mean Squared Error:  0.06770349406705771\n",
      "R2 score:  0.656731647703\n"
     ]
    },
    {
     "data": {
      "text/plain": [
       "0.06770349406705771"
      ]
     },
     "execution_count": 58,
     "metadata": {},
     "output_type": "execute_result"
    }
   ],
   "source": [
    "# Decision Tree Refinment\n",
    "\n",
    "from sklearn.grid_search import GridSearchCV\n",
    "from sklearn.tree import DecisionTreeRegressor\n",
    "\n",
    "# Select training data size and corresponding test data set.\n",
    "\n",
    "X_train = X_train_1000\n",
    "y_train = y_train_1000\n",
    "\n",
    "X_test = X_test_1000\n",
    "y_test = y_test_1000\n",
    "\n",
    "parameters = {'max_depth': [1,2,3,4,5,6,7]}\n",
    "\n",
    "clf = DecisionTreeRegressor(random_state=4)\n",
    "\n",
    "grid_obj = GridSearchCV(clf, parameters, cv = 5)\n",
    "\n",
    "clf = grid_obj.fit(X_train,y_train)\n",
    "\n",
    "# Get the estimator\n",
    "clf = grid_obj.best_estimator_\n",
    "print (\"Estimator :\", grid_obj.best_estimator_)\n",
    "\n",
    "print_metrics(y_test, clf.predict(X_test))\n",
    "#print (\"Important Features:\", clf.feature_importances_)\n",
    "\n",
    "#features = clf.feature_importances_\n",
    "\n",
    "#feature_importances_= pd.Series(features,index=[ 'Open', 'High', 'Low', 'Close', 'Adj Close', 'Volume',\n",
    "#'rolling_mean', 'upper_band', 'lower_band', 'SMA', 'price/SMA'])\n",
    "                             \n",
    "##print (\"Feature Importance:\" )\n",
    "#print (feature_importances_)"
   ]
  },
  {
   "cell_type": "code",
   "execution_count": 59,
   "metadata": {},
   "outputs": [
    {
     "name": "stdout",
     "output_type": "stream",
     "text": [
      "Estimator : RandomForestRegressor(bootstrap=True, criterion='mse', max_depth=None,\n",
      "           max_features='auto', max_leaf_nodes=None,\n",
      "           min_impurity_split=1e-07, min_samples_leaf=1,\n",
      "           min_samples_split=2, min_weight_fraction_leaf=0.0,\n",
      "           n_estimators=70, n_jobs=1, oob_score=False, random_state=4,\n",
      "           verbose=0, warm_start=False)\n",
      "Root Mean Squared Error:  0.06802257172869638\n",
      "R2 score:  0.653488466145\n"
     ]
    },
    {
     "data": {
      "text/plain": [
       "0.06802257172869638"
      ]
     },
     "execution_count": 59,
     "metadata": {},
     "output_type": "execute_result"
    }
   ],
   "source": [
    "# Random Forest refinement\n",
    "from sklearn.grid_search import GridSearchCV\n",
    "from sklearn.ensemble import RandomForestRegressor\n",
    "\n",
    "#  Select training data size and corresponding test data set.\n",
    "\n",
    "X_train = X_train_1000\n",
    "y_train = y_train_1000\n",
    "\n",
    "X_test = X_test_1000\n",
    "y_test = y_test_1000\n",
    "\n",
    "\n",
    "parameters = {'n_estimators': [10,20,30,40, 50, 60,70]}\n",
    "\n",
    "clf = RandomForestRegressor(random_state=4)\n",
    "\n",
    "grid_obj = GridSearchCV(clf, parameters, cv = 5)\n",
    "\n",
    "clf = grid_obj.fit(X_train,y_train)\n",
    "\n",
    "#clf = grid_obj.best_estimator_\n",
    "print (\"Estimator :\", grid_obj.best_estimator_)\n",
    "\n",
    "print_metrics(y_test, clf.predict(X_test))\n"
   ]
  },
  {
   "cell_type": "code",
   "execution_count": 60,
   "metadata": {},
   "outputs": [
    {
     "name": "stdout",
     "output_type": "stream",
     "text": [
      "Data Size per fold: 220\n",
      "\n",
      "Splitting at 1 / 2  training on chunk 1 - 1 testing on chunk 2\n",
      "Size of train + test:  440\n",
      "Root Mean Squared Error:  0.058920908759396894\n",
      "R2 score:  0.539340667043\n",
      "\n",
      "Splitting at 2 / 3  training on chunk 1 - 2 testing on chunk 3\n",
      "Size of train + test:  660\n",
      "Root Mean Squared Error:  0.09026541926536577\n",
      "R2 score:  0.787879789347\n",
      "\n",
      "Splitting at 3 / 4  training on chunk 1 - 3 testing on chunk 4\n",
      "Size of train + test:  880\n",
      "Root Mean Squared Error:  0.06264272506571239\n",
      "R2 score:  0.691406227627\n",
      "\n",
      "Splitting at 4 / 5  training on chunk 1 - 4 testing on chunk 5\n",
      "Size of train + test:  1100\n",
      "Root Mean Squared Error:  0.04744019440540156\n",
      "R2 score:  0.83281217997\n",
      "\n",
      "Splitting at 5 / 6  training on chunk 1 - 5 testing on chunk 6\n",
      "Size of train + test:  1320\n",
      "Root Mean Squared Error:  0.05461301677772298\n",
      "R2 score:  0.842629322682\n",
      "\n",
      "Splitting at 6 / 7  training on chunk 1 - 6 testing on chunk 7\n",
      "Size of train + test:  1540\n",
      "Root Mean Squared Error:  0.07121288789874099\n",
      "R2 score:  0.528567742385\n",
      "\n",
      "Splitting at 7 / 8  training on chunk 1 - 7 testing on chunk 8\n",
      "Size of train + test:  1760\n",
      "Root Mean Squared Error:  0.05821727026480155\n",
      "R2 score:  0.791822106767\n",
      "\n",
      "Splitting at 8 / 9  training on chunk 1 - 8 testing on chunk 9\n",
      "Size of train + test:  1980\n",
      "Root Mean Squared Error:  0.08729742736284254\n",
      "R2 score:  0.74350649357\n",
      "\n",
      "Splitting at 9 / 10  training on chunk 1 - 9 testing on chunk 10\n",
      "Size of train + test:  2200\n",
      "Root Mean Squared Error:  0.07476102895725256\n",
      "R2 score:  0.546029334876\n",
      "Average rmse for validation : 0.06726343097302635\n"
     ]
    }
   ],
   "source": [
    "# K fold Validataion for Linear Regression\n",
    "\n",
    "from sklearn import linear_model\n",
    "\n",
    "\n",
    "X_train = df.iloc[0:2200,1:-1]\n",
    "y_train = df.iloc[0:2200, -1]\n",
    "k = 10  # number of folds\n",
    "fold_size= int(np.floor(float(X_train.shape[0]) / number_folds))\n",
    "print(\"Data Size per fold:\", fold_size)\n",
    "    \n",
    "#rmse_list = np.zeros(k-1)\n",
    "rmse = 0\n",
    "\n",
    "for i in range(2, k + 1):\n",
    "    print ('')\n",
    "    split = float(i-1)/i\n",
    "    print (\"Splitting at\" ,str(i-1), \"/\", str(i), \" training on chunk 1 -\",  str(i-1),  \"testing on chunk\",  str(i))\n",
    "    #print ('Splitting the first ' + str(i) + ' chunks at ' + str(i-1) + '/' + str(i) )\n",
    "    \n",
    "    X = X_train[:(fold_size*i)]\n",
    "    y = y_train[:(fold_size*i)]\n",
    "    print ('Size of train + test: ', X.shape[0]) # the size of the dataframe is going to be k*i\n",
    "\n",
    "    index = int(np.floor(X.shape[0] * split))\n",
    "    X_trainFolds = X[:index]        \n",
    "    y_trainFolds = y[:index]\n",
    "        \n",
    "# fold used to test the model\n",
    "    X_testFolds = X[(index + 1):]\n",
    "    y_testFolds = y[(index + 1):]\n",
    "        \n",
    "# folds used to train the model        \n",
    "    linear = linear_model.LinearRegression()\n",
    "    linear.fit(X_trainFolds, y_trainFolds)\n",
    "    y_predict = linear.predict(X_testFolds)\n",
    "    rmse = rmse + print_metrics(y_testFolds, y_predict)\n",
    "    \n",
    "print (\"Average rmse for validation :\", rmse/9)"
   ]
  }
 ],
 "metadata": {
  "kernelspec": {
   "display_name": "Python 3",
   "language": "python",
   "name": "python3"
  },
  "language_info": {
   "codemirror_mode": {
    "name": "ipython",
    "version": 3
   },
   "file_extension": ".py",
   "mimetype": "text/x-python",
   "name": "python",
   "nbconvert_exporter": "python",
   "pygments_lexer": "ipython3",
   "version": "3.5.3"
  }
 },
 "nbformat": 4,
 "nbformat_minor": 2
}
